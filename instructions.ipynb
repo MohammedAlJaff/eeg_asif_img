{
 "cells": [
  {
   "cell_type": "markdown",
   "metadata": {},
   "source": [
    "This notebook contains instructions on how to run the code for the project. The code is written in Python and uses the version 3.9.16. \n",
    "\n",
    "An Apptainer image is provided to ensure a consistent and reproducible environment for running the code across different systems. The Apptainer image is available as *eeg_torch_container.sif*. You can download it from the following link:\n"
   ]
  },
  {
   "cell_type": "code",
   "execution_count": null,
   "metadata": {},
   "outputs": [],
   "source": []
  }
 ],
 "metadata": {
  "language_info": {
   "name": "python"
  }
 },
 "nbformat": 4,
 "nbformat_minor": 2
}
